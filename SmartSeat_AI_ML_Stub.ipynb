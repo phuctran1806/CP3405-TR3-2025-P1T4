{
  "cells": [
    {
      "cell_type": "markdown",
      "metadata": {},
      "source": [
        "# SmartSeat AI/ML Stub Notebook\n",
        "CP3405 - Initial AI/ML Exploration\n",
        "\n",
        "This notebook contains **stubs and placeholders** for AI/ML components in SmartSeat:\n",
        "- Computer Vision (mock seat detection)\n",
        "- Forecasting (mock occupancy trends)\n",
        "- Evaluation metrics (placeholders)\n",
        "\n",
        "The purpose is to demonstrate early progress for Slide 6."
      ]
    },
    {
      "cell_type": "code",
      "execution_count": null,
      "metadata": {},
      "outputs": [],
      "source": [
        "# ---------------------------\n",
        "# 1. Setup\n",
        "# ---------------------------\n",
        "import numpy as np\n",
        "import pandas as pd\n",
        "import matplotlib.pyplot as plt\n",
        "\n",
        "print(\"SmartSeat AI/ML Notebook - Stub Ready\")"
      ]
    },
    {
      "cell_type": "code",
      "execution_count": null,
      "metadata": {},
      "outputs": [],
      "source": [
        "# ---------------------------\n",
        "# 2. Mock Computer Vision Stub\n",
        "# ---------------------------\n",
        "# Simulate detecting occupied vs empty seats\n",
        "# (0 = empty, 1 = occupied)\n",
        "\n",
        "n_seats = 30\n",
        "seat_status = np.random.choice([0,1], size=n_seats, p=[0.6,0.4])\n",
        "print(\"Detected seat states:\", seat_status)\n",
        "\n",
        "occupied = np.sum(seat_status)\n",
        "empty = n_seats - occupied\n",
        "print(f\"Occupied: {occupied}, Empty: {empty}\")\n",
        "\n",
        "# Simple visualization\n",
        "plt.bar([\"Occupied\", \"Empty\"], [occupied, empty], color=[\"red\", \"green\"])\n",
        "plt.title(\"Mock Seat Detection (Stub)\")\n",
        "plt.show()"
      ]
    },
    {
      "cell_type": "code",
      "execution_count": null,
      "metadata": {},
      "outputs": [],
      "source": [
        "# ---------------------------\n",
        "# 3. Mock Forecasting Stub\n",
        "# ---------------------------\n",
        "# Simulate seat usage over 10 time intervals\n",
        "\n",
        "time_steps = np.arange(1, 11)\n",
        "usage = np.random.randint(10, 30, size=10)\n",
        "\n",
        "df = pd.DataFrame({\"Time\": time_steps, \"Seats Used\": usage})\n",
        "print(df)\n",
        "\n",
        "# Plot occupancy trend\n",
        "df.plot(x=\"Time\", y=\"Seats Used\", marker=\"o\", title=\"Mock Occupancy Trend\")\n",
        "plt.ylabel(\"Seats Used\")\n",
        "plt.show()"
      ]
    },
    {
      "cell_type": "code",
      "execution_count": null,
      "metadata": {},
      "outputs": [],
      "source": [
        "# ---------------------------\n",
        "# 4. Placeholder for Evaluation Metrics\n",
        "# ---------------------------\n",
        "cv_precision = \"TBD\"\n",
        "cv_recall = \"TBD\"\n",
        "forecasting_rmse = \"TBD\"\n",
        "\n",
        "print(\"Evaluation Metrics (placeholders):\")\n",
        "print(\" - CV Precision:\", cv_precision)\n",
        "print(\" - CV Recall:\", cv_recall)\n",
        "print(\" - Forecasting RMSE:\", forecasting_rmse)"
      ]
    },
    {
      "cell_type": "code",
      "execution_count": null,
      "metadata": {},
      "outputs": [],
      "source": [
        "# ---------------------------\n",
        "# 5. Next Steps (Notes)\n",
        "# ---------------------------\n",
        "print(\"\"\"\n",
        "Next Steps:\n",
        "- Replace mock seat detection with YOLOv5/RCNN on classroom images\n",
        "- Use real/simulated data for forecasting with ARIMA or LSTM\n",
        "- Connect results into SmartSeat prototype dashboard\n",
        "\"\"\")"
      ]
    }
  ],
  "metadata": {
    "kernelspec": {
      "display_name": "Python 3",
      "language": "python",
      "name": "python3"
    },
    "language_info": {
      "name": "python",
      "version": "3.10"
    }
  },
  "nbformat": 4,
  "nbformat_minor": 5
}