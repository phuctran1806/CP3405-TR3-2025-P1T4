# SmartSeat AI/ML Stub Notebook
# CP3405 - Initial AI/ML Exploration

# ---------------------------
# 1. Setup
# ---------------------------
import numpy as np
import pandas as pd
import matplotlib.pyplot as plt

print("SmartSeat AI/ML Notebook - Stub Ready")

# ---------------------------
# 2. Mock Computer Vision Stub
# ---------------------------
# Simulate detecting occupied vs empty seats
# (0 = empty, 1 = occupied)

n_seats = 30
seat_status = np.random.choice([0,1], size=n_seats, p=[0.6,0.4])
print("Detected seat states:", seat_status)

occupied = np.sum(seat_status)
empty = n_seats - occupied
print(f"Occupied: {occupied}, Empty: {empty}")

# Simple visualization
plt.bar(["Occupied", "Empty"], [occupied, empty], color=["red", "green"])
plt.title("Mock Seat Detection (Stub)")
plt.show()

# ---------------------------
# 3. Mock Forecasting Stub
# ---------------------------
# Simulate seat usage over 10 time intervals

time_steps = np.arange(1, 11)
usage = np.random.randint(10, 30, size=10)

df = pd.DataFrame({"Time": time_steps, "Seats Used": usage})
print(df)

# Plot occupancy trend
df.plot(x="Time", y="Seats Used", marker="o", title="Mock Occupancy Trend")
plt.ylabel("Seats Used")
plt.show()

# ---------------------------
# 4. Placeholder for Evaluation Metrics
# ---------------------------
cv_precision = "TBD"
cv_recall = "TBD"
forecasting_rmse = "TBD"

print("Evaluation Metrics (placeholders):")
print(" - CV Precision:", cv_precision)
print(" - CV Recall:", cv_recall)
print(" - Forecasting RMSE:", forecasting_rmse)

# ---------------------------
# 5. Next Steps (Notes)
# ---------------------------
print("""
Next Steps:
- Replace mock seat detection with YOLOv5/RCNN on classroom images
- Use real/simulated data for forecasting with ARIMA or LSTM
- Connect results into SmartSeat prototype dashboard
""")
